{
 "cells": [
  {
   "cell_type": "code",
   "execution_count": 1,
   "metadata": {},
   "outputs": [],
   "source": [
    "import numpy as np\n",
    "import pandas as pd\n",
    "import matplotlib.pyplot as plt"
   ]
  },
  {
   "cell_type": "code",
   "execution_count": 2,
   "metadata": {},
   "outputs": [
    {
     "name": "stdout",
     "output_type": "stream",
     "text": [
      "(3750, 1)\n",
      "(3750, 1)\n"
     ]
    }
   ],
   "source": [
    "dfx = pd.read_csv(\"D:\\Mafia\\Week 2 Assignment(Lenear and Logistic Regression)\\Linear Regression\\Assignment 1\\Training Data\\Linear_X_Train.csv\")\n",
    "dfy = pd.read_csv(\"D:\\Mafia\\Week 2 Assignment(Lenear and Logistic Regression)\\Linear Regression\\Assignment 1\\Training Data\\Linear_Y_Train.csv\")\n",
    "\n",
    "x = dfx.values\n",
    "y = dfy.values\n",
    "\n",
    "x = x.reshape((-1,1))\n",
    "y = y.reshape((-1,1))\n",
    "print(x.shape)\n",
    "print(y.shape)\n",
    "\n",
    "X = (x-x.mean())/x.std()\n",
    "Y = y"
   ]
  },
  {
   "cell_type": "code",
   "execution_count": 3,
   "metadata": {},
   "outputs": [
    {
     "data": {
      "image/png": "[encoded data removed]",
      "text/plain": [
       "<Figure size 432x288 with 1 Axes>"
      ]
     },
     "metadata": {
      "needs_background": "light"
     },
     "output_type": "display_data"
    }
   ],
   "source": [
    "plt.scatter(x, y)\n",
    "plt.show()"
   ]
  },
  {
   "cell_type": "code",
   "execution_count": 4,
   "metadata": {},
   "outputs": [],
   "source": [
    "def hypothesis(x, theta):\n",
    "    return theta[0]+theta[1]*x\n"
   ]
  },
  {
   "cell_type": "code",
   "execution_count": 5,
   "metadata": {},
   "outputs": [],
   "source": [
    "def error(x, y, theta):\n",
    "    m=x.shape[0]\n",
    "    e=0\n",
    "    for i in range(m):\n",
    "        hx=hypothesis(x[i], theta)\n",
    "        e+=(hx-y[i])**2\n",
    "    return e"
   ]
  },
  {
   "cell_type": "code",
   "execution_count": 6,
   "metadata": {},
   "outputs": [],
   "source": [
    "def gradient(x, y, theta):\n",
    "    g=np.zeros((2,))\n",
    "    m=x.shape[0]\n",
    "    for i in range(m):\n",
    "        hx=hypothesis(x[i], theta)\n",
    "        g[0]+=hx-y[i]\n",
    "        g[1]+=(hx-y[i])*x[i]\n",
    "    return g"
   ]
  },
  {
   "cell_type": "code",
   "execution_count": 7,
   "metadata": {},
   "outputs": [],
   "source": [
    "def gradient_dec(x, y, lr=0.0001):\n",
    "    theta=np.array([-2.0, 0.0])\n",
    "    itr=0\n",
    "    maxitr=100\n",
    "    error_list=[]\n",
    "    theta_list=[]\n",
    "    while(itr<=maxitr):\n",
    "        g=gradient(x, y, theta)\n",
    "        e=error(x, y, theta)\n",
    "        error_list.append(e)\n",
    "        \n",
    "        theta_list.append((theta[0], theta[1]))\n",
    "        theta[0]-=lr*g[0]\n",
    "        theta[1]-=lr*g[1]\n",
    "        itr+=1\n",
    "    return theta, error_list, theta_list"
   ]
  },
  {
   "cell_type": "code",
   "execution_count": 8,
   "metadata": {},
   "outputs": [],
   "source": [
    "theta, error_l, theta_l=gradient_dec(x, y)"
   ]
  },
  {
   "cell_type": "code",
   "execution_count": 9,
   "metadata": {},
   "outputs": [
    {
     "data": {
      "image/png": "[encoded data removed]",
      "text/plain": [
       "<Figure size 432x288 with 1 Axes>"
      ]
     },
     "metadata": {
      "needs_background": "light"
     },
     "output_type": "display_data"
    }
   ],
   "source": [
    "plt.plot(error_l)\n",
    "plt.show()"
   ]
  },
  {
   "cell_type": "code",
   "execution_count": 10,
   "metadata": {},
   "outputs": [
    {
     "name": "stdout",
     "output_type": "stream",
     "text": [
      "[ 3.72798828 80.54363185]\n"
     ]
    }
   ],
   "source": [
    "print(theta)"
   ]
  },
  {
   "cell_type": "code",
   "execution_count": 11,
   "metadata": {},
   "outputs": [
    {
     "name": "stdout",
     "output_type": "stream",
     "text": [
      "[-2.         -1.11111111 -0.22222222  0.66666667  1.55555556  2.44444444\n",
      "  3.33333333  4.22222222  5.11111111  6.        ]\n"
     ]
    }
   ],
   "source": [
    "xtest = np.linspace(-2,6,10)\n",
    "print(xtest)"
   ]
  },
  {
   "cell_type": "code",
   "execution_count": 12,
   "metadata": {},
   "outputs": [
    {
     "data": {
      "image/png": "[encoded data removed]",
      "text/plain": [
       "<Figure size 432x288 with 1 Axes>"
      ]
     },
     "metadata": {
      "needs_background": "light"
     },
     "output_type": "display_data"
    }
   ],
   "source": [
    "plt.scatter(x,y,label='training data')\n",
    "plt.plot(xtest,hypothesis(xtest,theta), color='orange', label='prediction')\n",
    "plt.legend()\n",
    "plt.show()"
   ]
  },
  {
   "cell_type": "code",
   "execution_count": 13,
   "metadata": {},
   "outputs": [
    {
     "name": "stdout",
     "output_type": "stream",
     "text": [
      "[-2.         -1.11111111 -0.22222222  0.66666667  1.55555556  2.44444444\n",
      "  3.33333333  4.22222222  5.11111111  6.        ]\n",
      "[-157.35927543  -85.764936    -14.17059657   57.42374285  129.01808228\n",
      "  200.61242171  272.20676113  343.80110056  415.39543999  486.98977941]\n"
     ]
    }
   ],
   "source": [
    "prediction_list=hypothesis(xtest,theta)\n",
    "print(xtest)\n",
    "print(prediction_list)"
   ]
  },
  {
   "cell_type": "code",
   "execution_count": 14,
   "metadata": {},
   "outputs": [
    {
     "name": "stdout",
     "output_type": "stream",
     "text": [
      "[[-2.00000000e+00 -1.57359275e+02]\n",
      " [-1.11111111e+00 -8.57649360e+01]\n",
      " [-2.22222222e-01 -1.41705966e+01]\n",
      " [ 6.66666667e-01  5.74237429e+01]\n",
      " [ 1.55555556e+00  1.29018082e+02]\n",
      " [ 2.44444444e+00  2.00612422e+02]\n",
      " [ 3.33333333e+00  2.72206761e+02]\n",
      " [ 4.22222222e+00  3.43801101e+02]\n",
      " [ 5.11111111e+00  4.15395440e+02]\n",
      " [ 6.00000000e+00  4.86989779e+02]]\n"
     ]
    }
   ],
   "source": [
    "print(np.column_stack((xtest,prediction_list)))"
   ]
  },
  {
   "cell_type": "code",
   "execution_count": null,
   "metadata": {},
   "outputs": [],
   "source": []
  }
 ],
 "metadata": {
  "kernelspec": {
   "display_name": "Python 3",
   "language": "python",
   "name": "python3"
  },
  "language_info": {
   "codemirror_mode": {
    "name": "ipython",
    "version": 3
   },
   "file_extension": ".py",
   "mimetype": "text/x-python",
   "name": "python",
   "nbconvert_exporter": "python",
   "pygments_lexer": "ipython3",
   "version": "3.7.4"
  }
 },
 "nbformat": 4,
 "nbformat_minor": 2
}
